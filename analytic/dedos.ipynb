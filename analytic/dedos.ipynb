{
 "cells": [
  {
   "cell_type": "code",
   "execution_count": 2,
   "metadata": {},
   "outputs": [],
   "source": [
    "import os\n",
    "import sys\n",
    "import matplotlib.pyplot as plt\n",
    "import pandas as pd\n",
    "\n",
    "sys.path.append(os.path.abspath(os.getcwd() + '/database'))\n",
    "from db_api import *\n",
    "\n",
    "db = db_api()"
   ]
  },
  {
   "cell_type": "code",
   "execution_count": 3,
   "metadata": {},
   "outputs": [
    {
     "name": "stdout",
     "output_type": "stream",
     "text": [
      "QUEUE_LEN\n",
      "ITEMS_PROCESSED\n",
      "EXEC_TIME\n",
      "IDLE_TIME\n",
      "MEMORY_ALLOCATED\n",
      "NUM_STATES\n"
     ]
    }
   ],
   "source": [
    "stats = db.get_items('stats')\n",
    "for stat in stats:\n",
    "    print stat.name"
   ]
  },
  {
   "cell_type": "code",
   "execution_count": 4,
   "metadata": {},
   "outputs": [
    {
     "name": "stdout",
     "output_type": "stream",
     "text": [
      "ID: 10\n",
      "ID: 11\n",
      "ID: 12\n",
      "ID: 13\n",
      "ID: 14\n",
      "ID: 15\n",
      "ID: 16\n",
      "ID: 17\n",
      "ID: 18\n"
     ]
    }
   ],
   "source": [
    "msus = db.get_items('msus')\n",
    "for msu in msus:\n",
    "    print 'ID: ' + str(msu.msu)# + ', TYPE: ' + msu.msu_type.name"
   ]
  },
  {
   "cell_type": "code",
   "execution_count": 5,
   "metadata": {
    "scrolled": true
   },
   "outputs": [
    {
     "name": "stdout",
     "output_type": "stream",
     "text": [
      "QUEUE_LEN\n",
      "ITEMS_PROCESSED\n",
      "MEMORY_ALLOCATED\n",
      "NUM_STATES\n",
      "EXEC_TIME\n",
      "IDLE_TIME\n"
     ]
    }
   ],
   "source": [
    "ts = db.get_msu_timeseries(msus[0])\n",
    "for t in ts:\n",
    "    print t.statistic.name"
   ]
  },
  {
   "cell_type": "code",
   "execution_count": 6,
   "metadata": {},
   "outputs": [
    {
     "name": "stdout",
     "output_type": "stream",
     "text": [
      "     EXEC_TIME IDLE_TIME ITEMS_PROCESSED MEMORY_ALLOCATED NUM_STATES  \\\n",
      "0            0         0               0                0          0   \n",
      "1            1         0               1                0          0   \n",
      "2            1         0               1                0          0   \n",
      "3            1         0               2                0          0   \n",
      "4            1         0               3                0          0   \n",
      "5            1         0               4                0          0   \n",
      "6            1         0               5                0          0   \n",
      "7            1         0               6                0          0   \n",
      "8            1         0               7                0          0   \n",
      "9            1         0               7                0          0   \n",
      "10           1         0               8                0          0   \n",
      "11           1         0               9                0          0   \n",
      "12           1         0              10                0          0   \n",
      "13           1         0              11                0          0   \n",
      "14           1         0              12                0          0   \n",
      "15           1         0              13                0          0   \n",
      "16           1         0              14                0          0   \n",
      "17           1         0              15                0          0   \n",
      "18           1         0              16                0          0   \n",
      "19           1         0              17                0          0   \n",
      "20           1         0              18                0          0   \n",
      "21           1         0              19                0          0   \n",
      "22           1         0              20                0          0   \n",
      "23           1         0              21                0          0   \n",
      "24           1         0              22                0          0   \n",
      "25           1         0              23                0          0   \n",
      "26           1         0              24                0          0   \n",
      "27           1         0              25                0          0   \n",
      "28           1         0              26                0          0   \n",
      "29           1         0              27                0          0   \n",
      "...        ...       ...             ...              ...        ...   \n",
      "1112         1         0            1088                0          0   \n",
      "1113         1         0            1089                0          0   \n",
      "1114         1         0            1090                0          0   \n",
      "1115         1         0            1091                0          0   \n",
      "1116         1         0            1092                0          0   \n",
      "1117         1         0            1093                0          0   \n",
      "1118         1         0            1094                0          0   \n",
      "1119         1         0            1095                0          0   \n",
      "1120         1         0            1096                0          0   \n",
      "1121         1         0            1097                0          0   \n",
      "1122         1         0            1098                0          0   \n",
      "1123         1         0            1099                0          0   \n",
      "1124         1         0            1100                0          0   \n",
      "1125         1         0            1101                0          0   \n",
      "1126         1         0            1102                0          0   \n",
      "1127         1         0            1103                0          0   \n",
      "1128         1         0            1104                0          0   \n",
      "1129         1         0            1105                0          0   \n",
      "1130         1         0            1106                0          0   \n",
      "1131         1         0            1107                0          0   \n",
      "1132         1         0            1108                0          0   \n",
      "1133         1         0            1109                0          0   \n",
      "1134         1         0            1110                0          0   \n",
      "1135         1         0            1111                0          0   \n",
      "1136         1         0            1112                0          0   \n",
      "1137         1         0            1113                0          0   \n",
      "1138         1         0            1114                0          0   \n",
      "1139         1         0            1115                0          0   \n",
      "1140         1         0            1116                0          0   \n",
      "1141         1         0            1117                0          0   \n",
      "\n",
      "     QUEUE_LEN          TIME  \n",
      "0            0     112018646  \n",
      "1            0     609835258  \n",
      "2            0    1109842014  \n",
      "3            0    1609835569  \n",
      "4            0    2109830822  \n",
      "5            0    2612006238  \n",
      "6            0    3109832196  \n",
      "7            0    3609835763  \n",
      "8            0    4112005949  \n",
      "9            0    4612022018  \n",
      "10           0    5112014966  \n",
      "11           0    5612005923  \n",
      "12           0    6112033097  \n",
      "13           0    6612009427  \n",
      "14           0    7112018341  \n",
      "15           0    7612033017  \n",
      "16           0    8112006305  \n",
      "17           0    8612014739  \n",
      "18           0    9112005482  \n",
      "19           0    9612020694  \n",
      "20           0   10112005100  \n",
      "21           0   10612004535  \n",
      "22           0   11112026026  \n",
      "23           0   11612021150  \n",
      "24           0   12112006644  \n",
      "25           0   12612006212  \n",
      "26           0   13112029878  \n",
      "27           0   13612023214  \n",
      "28           0   14112005808  \n",
      "29           0   14612022615  \n",
      "...        ...           ...  \n",
      "1112         0  556109848479  \n",
      "1113         0  556609844969  \n",
      "1114         0  557109844260  \n",
      "1115         0  557609844530  \n",
      "1116         0  558109848350  \n",
      "1117         0  558609843081  \n",
      "1118         0  559112004940  \n",
      "1119         0  559609837911  \n",
      "1120         0  560112006177  \n",
      "1121         0  560609844252  \n",
      "1122         0  561109848872  \n",
      "1123         0  561609844992  \n",
      "1124         0  562109847492  \n",
      "1125         0  562609845279  \n",
      "1126         0  563109847396  \n",
      "1127         0  563609836940  \n",
      "1128         0  564109846910  \n",
      "1129         0  564609851874  \n",
      "1130         0  565109847688  \n",
      "1131         0  565609844844  \n",
      "1132         0  566109845675  \n",
      "1133         0  566609844735  \n",
      "1134         0  567109843725  \n",
      "1135         0  567609837059  \n",
      "1136         0  568109847539  \n",
      "1137         0  568609843866  \n",
      "1138         0  569109846326  \n",
      "1139         0  569612006852  \n",
      "1140         0  570112017063  \n",
      "1141         0  570609839021  \n",
      "\n",
      "[1142 rows x 7 columns]\n"
     ]
    }
   ],
   "source": [
    "df = db.get_msu_full_df(msus[0])\n",
    "print df"
   ]
  },
  {
   "cell_type": "code",
   "execution_count": null,
   "metadata": {},
   "outputs": [],
   "source": []
  }
 ],
 "metadata": {
  "kernelspec": {
   "display_name": "Python 2",
   "language": "python",
   "name": "python2"
  },
  "language_info": {
   "codemirror_mode": {
    "name": "ipython",
    "version": 2
   },
   "file_extension": ".py",
   "mimetype": "text/x-python",
   "name": "python",
   "nbconvert_exporter": "python",
   "pygments_lexer": "ipython2",
   "version": "2.7.13"
  }
 },
 "nbformat": 4,
 "nbformat_minor": 2
}
