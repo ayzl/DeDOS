{
 "cells": [
  {
   "cell_type": "code",
   "execution_count": 1,
   "metadata": {},
   "outputs": [],
   "source": [
    "import os\n",
    "import sys\n",
    "sys.path.append(os.path.abspath(os.getcwd() + '/src/analytic/database'))\n",
    "from db_api import *"
   ]
  },
  {
   "cell_type": "code",
   "execution_count": 2,
   "metadata": {},
   "outputs": [],
   "source": [
    "db = db_api()"
   ]
  },
  {
   "cell_type": "code",
   "execution_count": 3,
   "metadata": {},
   "outputs": [
    {
     "name": "stdout",
     "output_type": "stream",
     "text": [
      "QUEUE_LEN\n",
      "ITEMS_PROCESSED\n",
      "MEMORY_ALLOCATED\n",
      "NUM_STATES\n"
     ]
    }
   ],
   "source": [
    "stats = db.get_items('stats')\n",
    "for stat in stats:\n",
    "    print stat.name"
   ]
  },
  {
   "cell_type": "code",
   "execution_count": 9,
   "metadata": {},
   "outputs": [
    {
     "name": "stdout",
     "output_type": "stream",
     "text": [
      "ID: 1, NAME: SOCKET\n",
      "ID: 2, NAME: WS_READ\n",
      "ID: 3, NAME: WS_READ\n",
      "ID: 4, NAME: WS_HTTP\n",
      "ID: 5, NAME: WS_REGEX\n",
      "ID: 6, NAME: WS_REGEX\n",
      "ID: 7, NAME: WS_REGEX\n",
      "ID: 8, NAME: WS_WRITE\n",
      "ID: 9, NAME: WS_REGEX_ROUTE\n",
      "ID: 10, NAME: WS_REGEX_ROUTE\n",
      "ID: 11, NAME: WS_REGEX\n",
      "ID: 12, NAME: WS_REGEX\n",
      "ID: 13, NAME: WS_REGEX\n",
      "ID: 14, NAME: WS_REGEX\n",
      "ID: 15, NAME: WS_REGEX\n",
      "ID: 16, NAME: WS_REGEX\n"
     ]
    }
   ],
   "source": [
    "msus = db.get_items('msus')\n",
    "for msu in msus:\n",
    "    print 'ID: ' + str(msu.id) + ', NAME: ' + msu.msu_type.name"
   ]
  },
  {
   "cell_type": "code",
   "execution_count": 10,
   "metadata": {},
   "outputs": [
    {
     "name": "stdout",
     "output_type": "stream",
     "text": [
      "QUEUE_LEN\n",
      "ITEMS_PROCESSED\n",
      "MEMORY_ALLOCATED\n",
      "NUM_STATES\n"
     ]
    }
   ],
   "source": [
    "ts = db.get_msu_timeseries(msus[0])\n",
    "for t in ts:\n",
    "    print t.statistic.name"
   ]
  },
  {
   "cell_type": "code",
   "execution_count": null,
   "metadata": {},
   "outputs": [],
   "source": []
  }
 ],
 "metadata": {
  "kernelspec": {
   "display_name": "Python 2",
   "language": "python",
   "name": "python2"
  },
  "language_info": {
   "codemirror_mode": {
    "name": "ipython",
    "version": 2
   },
   "file_extension": ".py",
   "mimetype": "text/x-python",
   "name": "python",
   "nbconvert_exporter": "python",
   "pygments_lexer": "ipython2",
   "version": "2.7.13"
  }
 },
 "nbformat": 4,
 "nbformat_minor": 2
}
